{
 "metadata": {
  "language_info": {
   "codemirror_mode": {
    "name": "ipython",
    "version": 3
   },
   "file_extension": ".py",
   "mimetype": "text/x-python",
   "name": "python",
   "nbconvert_exporter": "python",
   "pygments_lexer": "ipython3",
   "version": "3.8.5-final"
  },
  "orig_nbformat": 2,
  "kernelspec": {
   "name": "python3",
   "display_name": "Python 3"
  }
 },
 "nbformat": 4,
 "nbformat_minor": 2,
 "cells": [
  {
   "cell_type": "code",
   "execution_count": 44,
   "metadata": {},
   "outputs": [
    {
     "output_type": "stream",
     "name": "stdout",
     "text": [
      "<class 'tuple'>\n428494\n"
     ]
    }
   ],
   "source": [
    "def tempsEnSeconde(temps):\n",
    "    \"\"\" Renvoie la valeur en seconde de temps donné comme jour, heure, minute, seconde.\"\"\"\n",
    "    tempsEnSeconde = temps[3] + temps[2] * 60 + temps[1] * 60*60 + temps[0] * 60*60*24\n",
    "    return(tempsEnSeconde)\n",
    "\n",
    "\n",
    "temps = (4, 23, 1, 34)\n",
    "print(type(temps))\n",
    "print(tempsEnSeconde(temps))\n",
    "\n"
   ]
  },
  {
   "cell_type": "code",
   "execution_count": 58,
   "metadata": {},
   "outputs": [
    {
     "output_type": "execute_result",
     "data": {
      "text/plain": [
       "(1, 3, 46, 40)"
      ]
     },
     "metadata": {},
     "execution_count": 58
    }
   ],
   "source": [
    "def secondeEnTemps(seconde):\n",
    "    \"\"\"Renvoie le temps (jour, heure, minute, seconde) qui correspond au nombre de seconde passé en argument\"\"\"\n",
    "    jour, seconde = divmod(seconde, 86400)\n",
    "    heure, seconde = divmod(seconde, 3600)\n",
    "    minute, seconde = divmod(seconde, 60)\n",
    "    return (jour,heure,minute,seconde)\n",
    "\n",
    "\n",
    "seconde = 100000\n",
    "secondeEnTemps(seconde"
   ]
  },
  {
   "cell_type": "code",
   "execution_count": 113,
   "metadata": {},
   "outputs": [
    {
     "output_type": "stream",
     "name": "stdout",
     "text": [
      "None\n1 Jour,2 Heures,3 Minutes,4 Secondes,None\n"
     ]
    }
   ],
   "source": [
    "listejhms = [\"Jour\", \"Heure\", \"Minute\", \"Seconde\"]\n",
    "liste_jhms_pluriel = []\n",
    "tempsliste = []\n",
    "temps=[]\n",
    "\n",
    "t = str(input(\"Entrez une date avec des espaces\"))\n",
    "temps = t.split()\n",
    "\n",
    "for c in range(1):\n",
    "    if c != 0:\n",
    "        tempsliste.append(temps[c])\n",
    "\n",
    "def pluriels(temps):\n",
    "    '''Met les mots au pluriels ou laisse au singulier'''\n",
    "    for i in range(4):\n",
    "        if int(temps[i]) == 1:\n",
    "            liste_jhms_pluriel.append(listejhms[i])\n",
    "            tempsliste.append(temps[i])\n",
    "        elif int(temps[i]) > 1:\n",
    "            liste_jhms_pluriel.append(listejhms[i] + \"s\")\n",
    "            tempsliste.append(temps[i])\n",
    "        pass\n",
    "       \n",
    "def afficheTemps(temps):\n",
    "    print(pluriels(temps))\n",
    "    for x in range(len(tempsliste)):\n",
    "        print(tempsliste[x], liste_jhms_pluriel[x], end=(\",\"))\n",
    "\n",
    "print(afficheTemps(temps)) \n",
    "\n"
   ]
  },
  {
   "cell_type": "code",
   "execution_count": 104,
   "metadata": {},
   "outputs": [],
   "source": [
    "temps=[]\n",
    "t = str(input(\"Entrez une date avec des espaces\"))\n",
    "temps = t.split()"
   ]
  },
  {
   "cell_type": "code",
   "execution_count": null,
   "metadata": {},
   "outputs": [],
   "source": []
  }
 ]
}